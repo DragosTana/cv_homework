{
  "cells": [
    {
      "cell_type": "code",
      "execution_count": 28,
      "metadata": {
        "id": "21qeEwO6FyN-"
      },
      "outputs": [],
      "source": [
        "import numpy as np\n",
        "import torch\n",
        "import torch.nn as nn # contains functions needed to defined layers\n",
        "import torch.nn.functional as F # contains activation functions\n",
        "import torch.optim as optim\n",
        "from torchvision import datasets, transforms #torchvision\n",
        "from torch.utils.data import random_split, DataLoader\n",
        "import matplotlib.pyplot as plt\n",
        "import copy"
      ]
    },
    {
      "cell_type": "code",
      "execution_count": 29,
      "metadata": {
        "id": "-TZcxR2tGhYU"
      },
      "outputs": [],
      "source": [
        "class Net(nn.Module):\n",
        "    def __init__(self):\n",
        "        \"\"\" from torch.docs\n",
        "            torch.nn.Conv2d(in_channels, out_channels, kernel_size, stride=1, padding=0, dilation=1,\n",
        "                            groups=1, bias=True, padding_mode='zeros', device=None, dtype=None)\n",
        "        \"\"\"\n",
        "        super(Net, self).__init__()\n",
        "        self.conv1 = nn.Conv2d(1, 32, 3, 1) #qui avrò 32 filtri\n",
        "        self.conv2 = nn.Conv2d(32, 64, 3, 1)\n",
        "        self.fc1 = nn.Linear(9216, 128)\n",
        "        self.fc2 = nn.Linear(128, 10)\n",
        "\n",
        "    def forward(self, x):\n",
        "        x = self.conv1(x)\n",
        "        x = F.relu(x)\n",
        "        x = self.conv2(x)\n",
        "        x = F.relu(x)\n",
        "        x = F.max_pool2d(x, 2)\n",
        "        x = torch.flatten(x, 1)\n",
        "        x = self.fc1(x)\n",
        "        x = F.relu(x)\n",
        "        x = self.fc2(x)\n",
        "        output = F.log_softmax(x, dim=1)\n",
        "        return output\n"
      ]
    },
    {
      "cell_type": "code",
      "execution_count": 30,
      "metadata": {
        "id": "WTq_A--gS3dd"
      },
      "outputs": [],
      "source": [
        "class BigCNN(nn.Module):\n",
        "    def __init__(self):\n",
        "        super(BigCNN, self).__init__()\n",
        "\n",
        "        self.conv1 = nn.Conv2d(1, 32, kernel_size=3)\n",
        "        self.bn1 = nn.BatchNorm2d(32)\n",
        "        self.conv2 = nn.Conv2d(32, 32, kernel_size=3)\n",
        "        self.bn2 = nn.BatchNorm2d(32)\n",
        "        self.conv3 = nn.Conv2d(32, 32, kernel_size=5, stride=2, padding=2)\n",
        "        self.bn3 = nn.BatchNorm2d(32)\n",
        "        self.dropout1 = nn.Dropout(0.4)\n",
        "\n",
        "        self.conv4 = nn.Conv2d(32, 64, kernel_size=3)\n",
        "        self.bn4 = nn.BatchNorm2d(64)\n",
        "        self.conv5 = nn.Conv2d(64, 64, kernel_size=3)\n",
        "        self.bn5 = nn.BatchNorm2d(64)\n",
        "        self.conv6 = nn.Conv2d(64, 64, kernel_size=5, stride=2, padding=2)\n",
        "        self.bn6 = nn.BatchNorm2d(64)\n",
        "        self.dropout2 = nn.Dropout(0.4)\n",
        "\n",
        "        self.fc1 = nn.Linear(1024, 128)\n",
        "        self.bn7 = nn.BatchNorm1d(128)\n",
        "        self.dropout3 = nn.Dropout(0.4)\n",
        "        self.fc2 = nn.Linear(128, 10)\n",
        "\n",
        "    def forward(self, x):\n",
        "        x = self.conv1(x)\n",
        "        x = nn.functional.relu(x)\n",
        "        x = self.bn1(x)\n",
        "\n",
        "        x = self.conv2(x)\n",
        "        x = nn.functional.relu(x)\n",
        "        x = self.bn2(x)\n",
        "\n",
        "        x = self.conv3(x)\n",
        "        x = nn.functional.relu(x)\n",
        "        x = self.bn3(x)\n",
        "        x = self.dropout1(x)\n",
        "\n",
        "        x = self.conv4(x)\n",
        "        x = nn.functional.relu(x)\n",
        "        x = self.bn4(x)\n",
        "\n",
        "        x = self.conv5(x)\n",
        "        x = nn.functional.relu(x)\n",
        "        x = self.bn5(x)\n",
        "\n",
        "        x = self.conv6(x)\n",
        "        x = nn.functional.relu(x)\n",
        "        x = self.bn6(x)\n",
        "        x = self.dropout2(x)\n",
        "\n",
        "        x = x.view(x.size(0), -1)\n",
        "        x = self.fc1(x)\n",
        "        x = nn.functional.relu(x)\n",
        "        x = self.bn7(x)\n",
        "        x = self.dropout3(x)\n",
        "\n",
        "        x = self.fc2(x)\n",
        "        output = F.log_softmax(x, dim=1)\n",
        "        return output\n"
      ]
    },
    {
      "cell_type": "code",
      "execution_count": 31,
      "metadata": {
        "id": "PWQBn9WEIGW-"
      },
      "outputs": [],
      "source": [
        "def train(model, device, train_loader, optimizer, epoch):\n",
        "\n",
        "    size = len(train_loader.dataset)\n",
        "    model.train()\n",
        "    losses = []\n",
        "    for batch_idx, (data, target) in enumerate(train_loader):\n",
        "        data, target = data.to(device), target.to(device)\n",
        "        optimizer.zero_grad()\n",
        "        output = model(data)\n",
        "        loss = F.nll_loss(output, target)\n",
        "        loss.backward()\n",
        "        optimizer.step()\n",
        "        if batch_idx % 100 == 0:\n",
        "            loss, current = loss, (batch_idx + 1) * len(data)\n",
        "            print(f\"loss: {loss:>7f}  [{current:>5d}/{size:>5d}]\")\n",
        "\n",
        "        losses.append(loss.item())\n",
        "    return np.mean(losses)"
      ]
    },
    {
      "cell_type": "code",
      "execution_count": 32,
      "metadata": {
        "id": "SozrdGSSITV7"
      },
      "outputs": [],
      "source": [
        "def test(model, device, test_loader ):\n",
        "\n",
        "    model.eval()\n",
        "    test_loss = 0\n",
        "    correct = 0\n",
        "    with torch.no_grad(): # at test time we don't need gradient calculation\n",
        "        for data, target in test_loader:\n",
        "            data, target = data.to(device), target.to(device)\n",
        "            output = model(data)\n",
        "            test_loss += F.nll_loss(output, target, reduction='sum').item()  # sum up batch loss\n",
        "            pred = output.argmax(dim=1, keepdim=True)  # get the index of the max log-probability\n",
        "            correct += pred.eq(target.view_as(pred)).sum().item()\n",
        "\n",
        "    test_loss /= len(test_loader.dataset)\n",
        "    test_acc = 100. * correct / len(test_loader.dataset)\n",
        "\n",
        "    print(f\"Test Error: \\n Accuracy: {(test_acc):>0.2f}%, Avg loss: {test_loss:>8f} \\n\")\n",
        "    return test_loss, test_acc"
      ]
    },
    {
      "cell_type": "code",
      "execution_count": 33,
      "metadata": {
        "colab": {
          "base_uri": "https://localhost:8080/"
        },
        "id": "UGe3yr4oS5sG",
        "outputId": "16cda5f7-d762-4439-f4a7-20422465403d"
      },
      "outputs": [
        {
          "name": "stdout",
          "output_type": "stream",
          "text": [
            "326410\n"
          ]
        }
      ],
      "source": [
        "# PARAMETERS\n",
        "device = torch.device(\"cuda\") # to use the GPU\n",
        "batch_size = 64\n",
        "epochs = 20\n",
        "lr = 0.1\n",
        "\n",
        "# MODEL AND OPTIMIZER\n",
        "model = BigCNN().to(device)\n",
        "optimizer = optim.SGD(model.parameters(), lr=lr)\n",
        "\n",
        "# NUMBER OF PARAMETERS\n",
        "pytorch_total_params = sum(p.numel() for p in model.parameters() if p.requires_grad)\n",
        "print(pytorch_total_params)"
      ]
    },
    {
      "cell_type": "code",
      "execution_count": 34,
      "metadata": {
        "id": "8uv67LomTDZA"
      },
      "outputs": [],
      "source": [
        "# DATA\n",
        "\n",
        "# Define the transformation\n",
        "transform = transforms.Compose([\n",
        "    transforms.ToTensor(),\n",
        "    transforms.Normalize((0.1307,), (0.3081,))\n",
        "])\n",
        "\n",
        "# Load the MNIST dataset\n",
        "train_dataset = datasets.MNIST('./data', train=True, download=False, transform=transform)\n",
        "test_dataset = datasets.MNIST('./data', train=False, transform=transform)\n",
        "\n",
        "size = len(train_dataset)\n",
        "train_dataset, val_dataset = random_split(train_dataset, [int(size*0.9), int(size*0.1)])\n",
        "\n",
        "train_loader = DataLoader(train_dataset, batch_size=batch_size, shuffle=True)\n",
        "val_loader = DataLoader(val_dataset, batch_size=batch_size, shuffle=True)\n",
        "test_loader = DataLoader(test_dataset, batch_size=batch_size, shuffle=True)\n"
      ]
    },
    {
      "cell_type": "code",
      "execution_count": 35,
      "metadata": {
        "colab": {
          "base_uri": "https://localhost:8080/"
        },
        "id": "0fHwy-U4IZRc",
        "outputId": "09cb432e-f03b-4900-bb1f-f01214ff0336"
      },
      "outputs": [
        {
          "name": "stdout",
          "output_type": "stream",
          "text": [
            "Epoch 1\n",
            "-------------------------------\n",
            "loss: 2.730417  [   64/48000]\n",
            "loss: 0.188707  [ 6464/48000]\n",
            "loss: 0.192008  [12864/48000]\n",
            "loss: 0.100867  [19264/48000]\n",
            "loss: 0.069665  [25664/48000]\n",
            "loss: 0.120791  [32064/48000]\n",
            "loss: 0.017214  [38464/48000]\n",
            "loss: 0.101252  [44864/48000]\n",
            "Test Error: \n",
            " Accuracy: 98.80%, Avg loss: 0.036504 \n",
            "\n",
            "Saving model...\n",
            "Epoch 2\n",
            "-------------------------------\n",
            "loss: 0.036517  [   64/48000]\n",
            "loss: 0.021006  [ 6464/48000]\n",
            "loss: 0.021989  [12864/48000]\n",
            "loss: 0.013015  [19264/48000]\n",
            "loss: 0.022783  [25664/48000]\n",
            "loss: 0.017353  [32064/48000]\n",
            "loss: 0.032087  [38464/48000]\n",
            "loss: 0.108467  [44864/48000]\n",
            "Test Error: \n",
            " Accuracy: 99.35%, Avg loss: 0.025507 \n",
            "\n",
            "Saving model...\n",
            "Epoch 3\n",
            "-------------------------------\n",
            "loss: 0.058124  [   64/48000]\n",
            "loss: 0.033188  [ 6464/48000]\n",
            "loss: 0.008080  [12864/48000]\n",
            "loss: 0.046690  [19264/48000]\n",
            "loss: 0.030815  [25664/48000]\n",
            "loss: 0.121925  [32064/48000]\n",
            "loss: 0.038718  [38464/48000]\n",
            "loss: 0.040585  [44864/48000]\n",
            "Test Error: \n",
            " Accuracy: 99.10%, Avg loss: 0.026004 \n",
            "\n",
            "Epoch 4\n",
            "-------------------------------\n",
            "loss: 0.002919  [   64/48000]\n",
            "loss: 0.002811  [ 6464/48000]\n",
            "loss: 0.058691  [12864/48000]\n",
            "loss: 0.024162  [19264/48000]\n",
            "loss: 0.008643  [25664/48000]\n",
            "loss: 0.091866  [32064/48000]\n",
            "loss: 0.045532  [38464/48000]\n",
            "loss: 0.011597  [44864/48000]\n",
            "Test Error: \n",
            " Accuracy: 99.20%, Avg loss: 0.023842 \n",
            "\n",
            "Epoch 5\n",
            "-------------------------------\n",
            "loss: 0.003535  [   64/48000]\n",
            "loss: 0.010940  [ 6464/48000]\n",
            "loss: 0.047510  [12864/48000]\n",
            "loss: 0.003784  [19264/48000]\n",
            "loss: 0.028239  [25664/48000]\n",
            "loss: 0.027287  [32064/48000]\n",
            "loss: 0.012493  [38464/48000]\n",
            "loss: 0.005226  [44864/48000]\n",
            "Test Error: \n",
            " Accuracy: 99.30%, Avg loss: 0.021067 \n",
            "\n",
            "Epoch 6\n",
            "-------------------------------\n",
            "loss: 0.002522  [   64/48000]\n",
            "loss: 0.002274  [ 6464/48000]\n",
            "loss: 0.013507  [12864/48000]\n",
            "loss: 0.002352  [19264/48000]\n",
            "loss: 0.022458  [25664/48000]\n",
            "loss: 0.059981  [32064/48000]\n",
            "loss: 0.077024  [38464/48000]\n",
            "loss: 0.024483  [44864/48000]\n",
            "Test Error: \n",
            " Accuracy: 99.40%, Avg loss: 0.018231 \n",
            "\n",
            "Saving model...\n",
            "Epoch 7\n",
            "-------------------------------\n",
            "loss: 0.059568  [   64/48000]\n",
            "loss: 0.012545  [ 6464/48000]\n",
            "loss: 0.020837  [12864/48000]\n",
            "loss: 0.010756  [19264/48000]\n",
            "loss: 0.025204  [25664/48000]\n",
            "loss: 0.015732  [32064/48000]\n",
            "loss: 0.028761  [38464/48000]\n",
            "loss: 0.125296  [44864/48000]\n",
            "Test Error: \n",
            " Accuracy: 99.12%, Avg loss: 0.026237 \n",
            "\n",
            "Epoch 8\n",
            "-------------------------------\n",
            "loss: 0.036732  [   64/48000]\n",
            "loss: 0.009405  [ 6464/48000]\n",
            "loss: 0.022101  [12864/48000]\n",
            "loss: 0.002573  [19264/48000]\n",
            "loss: 0.092999  [25664/48000]\n",
            "loss: 0.037159  [32064/48000]\n",
            "loss: 0.003582  [38464/48000]\n",
            "loss: 0.072776  [44864/48000]\n",
            "Test Error: \n",
            " Accuracy: 99.35%, Avg loss: 0.019723 \n",
            "\n",
            "Epoch 9\n",
            "-------------------------------\n",
            "loss: 0.001821  [   64/48000]\n",
            "loss: 0.007974  [ 6464/48000]\n",
            "loss: 0.000861  [12864/48000]\n",
            "loss: 0.004868  [19264/48000]\n",
            "loss: 0.011631  [25664/48000]\n",
            "loss: 0.010602  [32064/48000]\n",
            "loss: 0.004665  [38464/48000]\n",
            "loss: 0.005585  [44864/48000]\n",
            "Test Error: \n",
            " Accuracy: 99.38%, Avg loss: 0.020098 \n",
            "\n",
            "Epoch 10\n",
            "-------------------------------\n",
            "loss: 0.034260  [   64/48000]\n",
            "loss: 0.004669  [ 6464/48000]\n",
            "loss: 0.054333  [12864/48000]\n",
            "loss: 0.014696  [19264/48000]\n",
            "loss: 0.001792  [25664/48000]\n",
            "loss: 0.000487  [32064/48000]\n",
            "loss: 0.008861  [38464/48000]\n",
            "loss: 0.077363  [44864/48000]\n",
            "Test Error: \n",
            " Accuracy: 99.45%, Avg loss: 0.019082 \n",
            "\n",
            "Saving model...\n",
            "Epoch 11\n",
            "-------------------------------\n",
            "loss: 0.004221  [   64/48000]\n",
            "loss: 0.000832  [ 6464/48000]\n",
            "loss: 0.013037  [12864/48000]\n",
            "loss: 0.003256  [19264/48000]\n",
            "loss: 0.007524  [25664/48000]\n",
            "loss: 0.023049  [32064/48000]\n",
            "loss: 0.018684  [38464/48000]\n",
            "loss: 0.089427  [44864/48000]\n",
            "Test Error: \n",
            " Accuracy: 99.33%, Avg loss: 0.018735 \n",
            "\n",
            "Epoch 12\n",
            "-------------------------------\n",
            "loss: 0.007651  [   64/48000]\n",
            "loss: 0.014446  [ 6464/48000]\n",
            "loss: 0.029087  [12864/48000]\n",
            "loss: 0.010236  [19264/48000]\n",
            "loss: 0.003434  [25664/48000]\n",
            "loss: 0.000677  [32064/48000]\n",
            "loss: 0.209007  [38464/48000]\n",
            "loss: 0.002759  [44864/48000]\n",
            "Test Error: \n",
            " Accuracy: 99.38%, Avg loss: 0.020089 \n",
            "\n",
            "Epoch 13\n",
            "-------------------------------\n",
            "loss: 0.001129  [   64/48000]\n",
            "loss: 0.001228  [ 6464/48000]\n",
            "loss: 0.004399  [12864/48000]\n",
            "loss: 0.002652  [19264/48000]\n",
            "loss: 0.003130  [25664/48000]\n",
            "loss: 0.004107  [32064/48000]\n",
            "loss: 0.000572  [38464/48000]\n",
            "loss: 0.007035  [44864/48000]\n",
            "Test Error: \n",
            " Accuracy: 99.42%, Avg loss: 0.017118 \n",
            "\n",
            "Epoch 14\n",
            "-------------------------------\n",
            "loss: 0.001122  [   64/48000]\n",
            "loss: 0.004554  [ 6464/48000]\n",
            "loss: 0.058708  [12864/48000]\n",
            "loss: 0.007499  [19264/48000]\n",
            "loss: 0.003781  [25664/48000]\n",
            "loss: 0.000497  [32064/48000]\n",
            "loss: 0.001938  [38464/48000]\n",
            "loss: 0.118290  [44864/48000]\n",
            "Test Error: \n",
            " Accuracy: 99.42%, Avg loss: 0.020691 \n",
            "\n",
            "Epoch 15\n",
            "-------------------------------\n",
            "loss: 0.001034  [   64/48000]\n",
            "loss: 0.005205  [ 6464/48000]\n",
            "loss: 0.005053  [12864/48000]\n",
            "loss: 0.000184  [19264/48000]\n",
            "loss: 0.007066  [25664/48000]\n",
            "loss: 0.000923  [32064/48000]\n",
            "loss: 0.010858  [38464/48000]\n",
            "loss: 0.003819  [44864/48000]\n",
            "Test Error: \n",
            " Accuracy: 99.40%, Avg loss: 0.021001 \n",
            "\n",
            "Epoch 16\n",
            "-------------------------------\n",
            "loss: 0.003596  [   64/48000]\n",
            "loss: 0.002048  [ 6464/48000]\n",
            "loss: 0.002541  [12864/48000]\n",
            "loss: 0.001798  [19264/48000]\n",
            "loss: 0.000352  [25664/48000]\n",
            "loss: 0.059990  [32064/48000]\n",
            "loss: 0.003417  [38464/48000]\n",
            "loss: 0.036499  [44864/48000]\n",
            "Test Error: \n",
            " Accuracy: 99.43%, Avg loss: 0.020173 \n",
            "\n",
            "Epoch 17\n",
            "-------------------------------\n",
            "loss: 0.001791  [   64/48000]\n",
            "loss: 0.001280  [ 6464/48000]\n",
            "loss: 0.010645  [12864/48000]\n",
            "loss: 0.005556  [19264/48000]\n",
            "loss: 0.006919  [25664/48000]\n",
            "loss: 0.046313  [32064/48000]\n",
            "loss: 0.000749  [38464/48000]\n",
            "loss: 0.006906  [44864/48000]\n",
            "Test Error: \n",
            " Accuracy: 99.38%, Avg loss: 0.024186 \n",
            "\n",
            "Epoch 18\n",
            "-------------------------------\n",
            "loss: 0.015049  [   64/48000]\n",
            "loss: 0.001725  [ 6464/48000]\n",
            "loss: 0.003029  [12864/48000]\n",
            "loss: 0.031431  [19264/48000]\n",
            "loss: 0.000203  [25664/48000]\n",
            "loss: 0.002467  [32064/48000]\n",
            "loss: 0.001565  [38464/48000]\n",
            "loss: 0.004859  [44864/48000]\n",
            "Test Error: \n",
            " Accuracy: 99.48%, Avg loss: 0.016722 \n",
            "\n",
            "Saving model...\n",
            "Epoch 19\n",
            "-------------------------------\n",
            "loss: 0.018906  [   64/48000]\n",
            "loss: 0.000311  [ 6464/48000]\n",
            "loss: 0.004171  [12864/48000]\n",
            "loss: 0.006802  [19264/48000]\n",
            "loss: 0.027423  [25664/48000]\n",
            "loss: 0.008472  [32064/48000]\n",
            "loss: 0.021564  [38464/48000]\n",
            "loss: 0.002964  [44864/48000]\n",
            "Test Error: \n",
            " Accuracy: 99.43%, Avg loss: 0.020199 \n",
            "\n",
            "Epoch 20\n",
            "-------------------------------\n",
            "loss: 0.000210  [   64/48000]\n",
            "loss: 0.000810  [ 6464/48000]\n",
            "loss: 0.000564  [12864/48000]\n",
            "loss: 0.000362  [19264/48000]\n",
            "loss: 0.007465  [25664/48000]\n",
            "loss: 0.000346  [32064/48000]\n",
            "loss: 0.001236  [38464/48000]\n",
            "loss: 0.000078  [44864/48000]\n",
            "Test Error: \n",
            " Accuracy: 99.35%, Avg loss: 0.022417 \n",
            "\n",
            "Done!\n"
          ]
        }
      ],
      "source": [
        "# TRAIN LOOP\n",
        "best_model = None\n",
        "best_accuracy = 0\n",
        "train_loss = []\n",
        "test_loss = []\n",
        "test_acc = []\n",
        "for epoch in range(epochs):\n",
        "    print(f\"Epoch {epoch+1}\\n-------------------------------\")\n",
        "    tr_loss = train(model, device, train_loader, optimizer, epoch)\n",
        "    te_loss, te_accuracy = test(model, device, val_loader)\n",
        "\n",
        "    train_loss.append(tr_loss)\n",
        "    test_loss.append(te_loss)\n",
        "    test_acc.append(te_accuracy)\n",
        "\n",
        "    if (te_accuracy > best_accuracy):\n",
        "      print(\"Saving model...\")\n",
        "      best_accuracy = te_accuracy\n",
        "      best_model = copy.deepcopy(model)\n",
        "\n",
        "print(\"Done!\")\n"
      ]
    },
    {
      "cell_type": "code",
      "execution_count": 37,
      "metadata": {
        "colab": {
          "base_uri": "https://localhost:8080/"
        },
        "id": "Al0JMr_-7sE9",
        "outputId": "ddb3d6b2-6c4d-46e0-e87a-005c567a5979"
      },
      "outputs": [
        {
          "name": "stdout",
          "output_type": "stream",
          "text": [
            "Test Error: \n",
            " Accuracy: 99.35%, Avg loss: 0.025478 \n",
            "\n",
            "99.35\n"
          ]
        }
      ],
      "source": [
        "te_loss, te_accuracy = test(best_model, device, test_loader)\n",
        "print(te_accuracy)\n"
      ]
    },
    {
      "cell_type": "code",
      "execution_count": 82,
      "metadata": {
        "colab": {
          "base_uri": "https://localhost:8080/",
          "height": 430
        },
        "id": "2x1ZBBYoaoOL",
        "outputId": "5ab817a1-f770-47a9-de19-769f11157b6e"
      },
      "outputs": [
        {
          "data": {
            "image/png": "[encoded data removed]",
            "text/plain": [
              "<Figure size 640x480 with 32 Axes>"
            ]
          },
          "metadata": {},
          "output_type": "display_data"
        }
      ],
      "source": [
        "# FILTERS\n",
        "kernel = model.conv1.weight.cpu()\n",
        "kernel = kernel.detach()\n",
        "kernel = np.array(kernel)\n",
        "figure, ax = plt.subplots(6, 6)\n",
        "for i in range(6):\n",
        "  for j in range(6):\n",
        "    # print(6*i + j)\n",
        "    if 6*i + j < len(kernel):\n",
        "      ax[i][j].imshow(kernel[6*i + j].reshape(3,3))\n",
        "    else:\n",
        "      ax[i][j].remove()"
      ]
    },
    {
      "cell_type": "markdown",
      "metadata": {
        "id": "ULyrWbZ-x-_t"
      },
      "source": [
        "##Exercise 0\n",
        "Create a plot of the values of the training losses and training accuracies.\n",
        "\n",
        "This can help to monitor how the training is going."
      ]
    },
    {
      "cell_type": "code",
      "execution_count": 38,
      "metadata": {
        "colab": {
          "base_uri": "https://localhost:8080/",
          "height": 368
        },
        "id": "BML547Zox8PU",
        "outputId": "9ac81bad-4f34-48d0-bf46-ead3d189b41a"
      },
      "outputs": [
        {
          "data": {
            "text/plain": [
              "[<matplotlib.lines.Line2D at 0x7f398755afb0>]"
            ]
          },
          "execution_count": 38,
          "metadata": {},
          "output_type": "execute_result"
        },
        {
          "data": {
            "image/png": "[encoded data removed]",
            "text/plain": [
              "<Figure size 1800x480 with 2 Axes>"
            ]
          },
          "metadata": {},
          "output_type": "display_data"
        }
      ],
      "source": [
        "train_loss = np.array(train_loss).ravel()\n",
        "test_loss = np.array(test_loss).ravel()\n",
        "fig, ax = plt.subplots(1, 2)\n",
        "fig.set_figwidth(18)\n",
        "ax[0].set_title(\"Training vs test\")\n",
        "ax[1].set_title(\"Accuracy\")\n",
        "ax[0].plot(np.arange(0, len(train_loss), 1), train_loss, '-o')\n",
        "ax[0].plot(np.arange(0, len(test_loss), 1), test_loss, '-o')\n",
        "ax[1].plot(np.arange(0, epochs, 1), test_acc, '-o')"
      ]
    },
    {
      "cell_type": "markdown",
      "metadata": {
        "id": "gR4tfzHCGoZU"
      },
      "source": [
        "## Exercise 1\n",
        "\n",
        "Try to change the network architecture (e.g. use all linear layers) or network hyperparameters (e.g. dimensions of the CNN kernel, stride, padding)\n",
        "\n",
        "How the performance change? Why?"
      ]
    },
    {
      "cell_type": "markdown",
      "metadata": {
        "id": "wtOWItYnOz5l"
      },
      "source": [
        "## Exercise 2\n",
        "\n",
        "Try to work with the hyperparameters (batch_size, learning_rate, ...).\n",
        "\n",
        "In particular try to focus on the optimization part. Change algorithm, momentum, parameters...\n",
        "\n",
        "How can it be improved?"
      ]
    },
    {
      "cell_type": "code",
      "execution_count": 83,
      "metadata": {
        "id": "2XMx5iJjGnKX"
      },
      "outputs": [],
      "source": []
    }
  ],
  "metadata": {
    "accelerator": "GPU",
    "colab": {
      "provenance": []
    },
    "kernelspec": {
      "display_name": "Python 3",
      "name": "python3"
    },
    "language_info": {
      "codemirror_mode": {
        "name": "ipython",
        "version": 3
      },
      "file_extension": ".py",
      "mimetype": "text/x-python",
      "name": "python",
      "nbconvert_exporter": "python",
      "pygments_lexer": "ipython3",
      "version": "3.10.12"
    }
  },
  "nbformat": 4,
  "nbformat_minor": 0
}
