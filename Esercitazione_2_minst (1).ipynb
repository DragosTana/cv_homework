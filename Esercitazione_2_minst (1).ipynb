{
  "cells": [
    {
      "cell_type": "code",
      "execution_count": 73,
      "metadata": {
        "id": "21qeEwO6FyN-"
      },
      "outputs": [],
      "source": [
        "import numpy as np\n",
        "import torch\n",
        "import torch.nn as nn # contains functions needed to defined layers\n",
        "import torch.nn.functional as F # contains activation functions\n",
        "import torch.optim as optim\n",
        "from torchvision import datasets, transforms #torchvision"
      ]
    },
    {
      "cell_type": "code",
      "execution_count": 74,
      "metadata": {
        "id": "-TZcxR2tGhYU"
      },
      "outputs": [],
      "source": [
        "class Net(nn.Module):\n",
        "    def __init__(self):\n",
        "        \"\"\" from torch.docs\n",
        "            torch.nn.Conv2d(in_channels, out_channels, kernel_size, stride=1, padding=0, dilation=1,\n",
        "                            groups=1, bias=True, padding_mode='zeros', device=None, dtype=None)\n",
        "        \"\"\"\n",
        "        super(Net, self).__init__()\n",
        "        self.conv1 = nn.Conv2d(1, 32, 3, 1) #qui avrò 32 filtri\n",
        "        self.conv2 = nn.Conv2d(32, 64, 3, 1)\n",
        "        self.fc1 = nn.Linear(9216, 128)\n",
        "        self.fc2 = nn.Linear(128, 10)\n",
        "\n",
        "    def forward(self, x):\n",
        "        x = self.conv1(x)\n",
        "        x = F.relu(x)\n",
        "        x = self.conv2(x)\n",
        "        x = F.relu(x)\n",
        "        x = F.max_pool2d(x, 2)\n",
        "        x = torch.flatten(x, 1)\n",
        "        x = self.fc1(x)\n",
        "        x = F.relu(x)\n",
        "        x = self.fc2(x)\n",
        "        output = F.log_softmax(x, dim=1)\n",
        "        return output\n"
      ]
    },
    {
      "cell_type": "code",
      "execution_count": 75,
      "metadata": {
        "id": "WTq_A--gS3dd"
      },
      "outputs": [],
      "source": [
        "class BigCNN(nn.Module):\n",
        "    def __init__(self):\n",
        "        super(BigCNN, self).__init__()\n",
        "\n",
        "        self.conv1 = nn.Conv2d(1, 32, kernel_size=3)\n",
        "        self.bn1 = nn.BatchNorm2d(32)\n",
        "        self.conv2 = nn.Conv2d(32, 32, kernel_size=3)\n",
        "        self.bn2 = nn.BatchNorm2d(32)\n",
        "        self.conv3 = nn.Conv2d(32, 32, kernel_size=5, stride=2, padding=2)\n",
        "        self.bn3 = nn.BatchNorm2d(32)\n",
        "        self.dropout1 = nn.Dropout(0.4)\n",
        "\n",
        "        self.conv4 = nn.Conv2d(32, 64, kernel_size=3)\n",
        "        self.bn4 = nn.BatchNorm2d(64)\n",
        "        self.conv5 = nn.Conv2d(64, 64, kernel_size=3)\n",
        "        self.bn5 = nn.BatchNorm2d(64)\n",
        "        self.conv6 = nn.Conv2d(64, 64, kernel_size=5, stride=2, padding=2)\n",
        "        self.bn6 = nn.BatchNorm2d(64)\n",
        "        self.dropout2 = nn.Dropout(0.4)\n",
        "\n",
        "        self.fc1 = nn.Linear(1024, 128)\n",
        "        self.bn7 = nn.BatchNorm1d(128)\n",
        "        self.dropout3 = nn.Dropout(0.4)\n",
        "        self.fc2 = nn.Linear(128, 10)\n",
        "\n",
        "    def forward(self, x):\n",
        "        x = self.conv1(x)\n",
        "        x = nn.functional.relu(x)\n",
        "        x = self.bn1(x)\n",
        "\n",
        "        x = self.conv2(x)\n",
        "        x = nn.functional.relu(x)\n",
        "        x = self.bn2(x)\n",
        "\n",
        "        x = self.conv3(x)\n",
        "        x = nn.functional.relu(x)\n",
        "        x = self.bn3(x)\n",
        "        x = self.dropout1(x)\n",
        "\n",
        "        x = self.conv4(x)\n",
        "        x = nn.functional.relu(x)\n",
        "        x = self.bn4(x)\n",
        "\n",
        "        x = self.conv5(x)\n",
        "        x = nn.functional.relu(x)\n",
        "        x = self.bn5(x)\n",
        "\n",
        "        x = self.conv6(x)\n",
        "        x = nn.functional.relu(x)\n",
        "        x = self.bn6(x)\n",
        "        x = self.dropout2(x)\n",
        "\n",
        "        x = x.view(x.size(0), -1)\n",
        "        x = self.fc1(x)\n",
        "        x = nn.functional.relu(x)\n",
        "        x = self.bn7(x)\n",
        "        x = self.dropout3(x)\n",
        "\n",
        "        x = self.fc2(x)\n",
        "        output = F.log_softmax(x, dim=1)\n",
        "        return output\n"
      ]
    },
    {
      "cell_type": "code",
      "execution_count": 76,
      "metadata": {
        "id": "PWQBn9WEIGW-"
      },
      "outputs": [],
      "source": [
        "def train(model, device, train_loader, optimizer, epoch):\n",
        "\n",
        "    size = len(train_loader.dataset)\n",
        "    model.train()\n",
        "    losses = []\n",
        "    for batch_idx, (data, target) in enumerate(train_loader):\n",
        "        data, target = data.to(device), target.to(device)\n",
        "        optimizer.zero_grad()\n",
        "        output = model(data)\n",
        "        loss = F.nll_loss(output, target)\n",
        "        loss.backward()\n",
        "        optimizer.step()\n",
        "        if batch_idx % 100 == 0:\n",
        "            loss, current = loss, (batch_idx + 1) * len(data)\n",
        "            print(f\"loss: {loss:>7f}  [{current:>5d}/{size:>5d}]\")\n",
        "\n",
        "        losses.append(loss.item())\n",
        "    return np.mean(losses)"
      ]
    },
    {
      "cell_type": "code",
      "execution_count": 77,
      "metadata": {
        "id": "SozrdGSSITV7"
      },
      "outputs": [],
      "source": [
        "def test(model, device, test_loader ):\n",
        "\n",
        "    model.eval()\n",
        "    test_loss = 0\n",
        "    correct = 0\n",
        "    with torch.no_grad(): # at test time we don't need gradient calculation\n",
        "        for data, target in test_loader:\n",
        "            data, target = data.to(device), target.to(device)\n",
        "            output = model(data)\n",
        "            test_loss += F.nll_loss(output, target, reduction='sum').item()  # sum up batch loss\n",
        "            pred = output.argmax(dim=1, keepdim=True)  # get the index of the max log-probability\n",
        "            correct += pred.eq(target.view_as(pred)).sum().item()\n",
        "\n",
        "    test_loss /= len(test_loader.dataset)\n",
        "    test_acc = 100. * correct / len(test_loader.dataset)\n",
        "\n",
        "    print(f\"Test Error: \\n Accuracy: {(test_acc):>0.2f}%, Avg loss: {test_loss:>8f} \\n\")\n",
        "    return test_loss, test_acc"
      ]
    },
    {
      "cell_type": "code",
      "execution_count": 78,
      "metadata": {
        "colab": {
          "base_uri": "https://localhost:8080/"
        },
        "id": "UGe3yr4oS5sG",
        "outputId": "16cda5f7-d762-4439-f4a7-20422465403d"
      },
      "outputs": [
        {
          "name": "stdout",
          "output_type": "stream",
          "text": [
            "326410\n"
          ]
        }
      ],
      "source": [
        "# PARAMETERS\n",
        "device = torch.device(\"cuda\") # to use the GPU\n",
        "batch_size = 64\n",
        "epochs = 20\n",
        "lr = 0.1\n",
        "\n",
        "# MODEL AND OPTIMIZER\n",
        "model = BigCNN().to(device)\n",
        "optimizer = optim.SGD(model.parameters(), lr=lr)\n",
        "\n",
        "# NUMBER OF PARAMETERS\n",
        "pytorch_total_params = sum(p.numel() for p in model.parameters() if p.requires_grad)\n",
        "print(pytorch_total_params)"
      ]
    },
    {
      "cell_type": "code",
      "execution_count": 79,
      "metadata": {
        "id": "8uv67LomTDZA"
      },
      "outputs": [],
      "source": [
        "# DATA\n",
        "\n",
        "transform=transforms.Compose([\n",
        "        transforms.ToTensor(),\n",
        "        transforms.Normalize((0.1307,), (0.3081,))\n",
        "      ])\n",
        "# Dataset1: Train, Dataset2: Test\n",
        "dataset1 = datasets.MNIST('../data', train=True, download=True, transform=transform)\n",
        "dataset2 = datasets.MNIST('../data', train=False, transform=transform)\n",
        "train_loader = torch.utils.data.DataLoader(dataset1, num_workers=1, pin_memory=True,shuffle=True,batch_size=batch_size)\n",
        "test_loader = torch.utils.data.DataLoader(dataset2, num_workers=1, pin_memory=True,shuffle=True,batch_size=batch_size)\n"
      ]
    },
    {
      "cell_type": "code",
      "execution_count": 80,
      "metadata": {
        "colab": {
          "base_uri": "https://localhost:8080/"
        },
        "id": "0fHwy-U4IZRc",
        "outputId": "09cb432e-f03b-4900-bb1f-f01214ff0336"
      },
      "outputs": [
        {
          "name": "stdout",
          "output_type": "stream",
          "text": [
            "Epoch 1\n",
            "-------------------------------\n",
            "loss: 2.605718  [   64/60000]\n",
            "loss: 0.229420  [ 6464/60000]\n",
            "loss: 0.142106  [12864/60000]\n",
            "loss: 0.034950  [19264/60000]\n",
            "loss: 0.015109  [25664/60000]\n",
            "loss: 0.067076  [32064/60000]\n",
            "loss: 0.150672  [38464/60000]\n",
            "loss: 0.019303  [44864/60000]\n",
            "loss: 0.018955  [51264/60000]\n",
            "loss: 0.117413  [57664/60000]\n",
            "Test Error: \n",
            " Accuracy: 98.8%, Avg loss: 0.032916 \n",
            "\n",
            "Epoch 2\n",
            "-------------------------------\n",
            "loss: 0.023424  [   64/60000]\n",
            "loss: 0.090587  [ 6464/60000]\n",
            "loss: 0.030899  [12864/60000]\n",
            "loss: 0.010318  [19264/60000]\n",
            "loss: 0.014492  [25664/60000]\n",
            "loss: 0.019954  [32064/60000]\n",
            "loss: 0.061838  [38464/60000]\n",
            "loss: 0.004860  [44864/60000]\n",
            "loss: 0.049621  [51264/60000]\n",
            "loss: 0.024498  [57664/60000]\n",
            "Test Error: \n",
            " Accuracy: 98.7%, Avg loss: 0.038060 \n",
            "\n",
            "Epoch 3\n",
            "-------------------------------\n",
            "loss: 0.039477  [   64/60000]\n",
            "loss: 0.029448  [ 6464/60000]\n",
            "loss: 0.058976  [12864/60000]\n",
            "loss: 0.023875  [19264/60000]\n",
            "loss: 0.011606  [25664/60000]\n",
            "loss: 0.038087  [32064/60000]\n",
            "loss: 0.061160  [38464/60000]\n",
            "loss: 0.017720  [44864/60000]\n",
            "loss: 0.027123  [51264/60000]\n",
            "loss: 0.018486  [57664/60000]\n",
            "Test Error: \n",
            " Accuracy: 99.4%, Avg loss: 0.018815 \n",
            "\n",
            "Epoch 4\n",
            "-------------------------------\n",
            "loss: 0.013019  [   64/60000]\n",
            "loss: 0.003651  [ 6464/60000]\n",
            "loss: 0.003152  [12864/60000]\n",
            "loss: 0.017802  [19264/60000]\n",
            "loss: 0.018287  [25664/60000]\n",
            "loss: 0.077996  [32064/60000]\n",
            "loss: 0.058889  [38464/60000]\n",
            "loss: 0.002397  [44864/60000]\n",
            "loss: 0.073461  [51264/60000]\n",
            "loss: 0.009136  [57664/60000]\n",
            "Test Error: \n",
            " Accuracy: 99.3%, Avg loss: 0.020919 \n",
            "\n",
            "Epoch 5\n",
            "-------------------------------\n",
            "loss: 0.011951  [   64/60000]\n",
            "loss: 0.102855  [ 6464/60000]\n",
            "loss: 0.011303  [12864/60000]\n",
            "loss: 0.073902  [19264/60000]\n",
            "loss: 0.014285  [25664/60000]\n",
            "loss: 0.076087  [32064/60000]\n",
            "loss: 0.001335  [38464/60000]\n",
            "loss: 0.098961  [44864/60000]\n",
            "loss: 0.017936  [51264/60000]\n",
            "loss: 0.063931  [57664/60000]\n",
            "Test Error: \n",
            " Accuracy: 99.4%, Avg loss: 0.017707 \n",
            "\n",
            "Epoch 6\n",
            "-------------------------------\n",
            "loss: 0.006504  [   64/60000]\n",
            "loss: 0.135274  [ 6464/60000]\n",
            "loss: 0.002353  [12864/60000]\n",
            "loss: 0.023922  [19264/60000]\n",
            "loss: 0.001541  [25664/60000]\n",
            "loss: 0.000972  [32064/60000]\n",
            "loss: 0.027299  [38464/60000]\n",
            "loss: 0.008300  [44864/60000]\n",
            "loss: 0.026622  [51264/60000]\n",
            "loss: 0.040918  [57664/60000]\n",
            "Test Error: \n",
            " Accuracy: 99.5%, Avg loss: 0.014750 \n",
            "\n",
            "Epoch 7\n",
            "-------------------------------\n",
            "loss: 0.002394  [   64/60000]\n",
            "loss: 0.008936  [ 6464/60000]\n",
            "loss: 0.011173  [12864/60000]\n",
            "loss: 0.001452  [19264/60000]\n",
            "loss: 0.016437  [25664/60000]\n",
            "loss: 0.003242  [32064/60000]\n",
            "loss: 0.003321  [38464/60000]\n",
            "loss: 0.037555  [44864/60000]\n",
            "loss: 0.044136  [51264/60000]\n",
            "loss: 0.008743  [57664/60000]\n",
            "Test Error: \n",
            " Accuracy: 99.5%, Avg loss: 0.014992 \n",
            "\n",
            "Epoch 8\n",
            "-------------------------------\n",
            "loss: 0.004346  [   64/60000]\n",
            "loss: 0.001242  [ 6464/60000]\n",
            "loss: 0.022724  [12864/60000]\n",
            "loss: 0.007464  [19264/60000]\n",
            "loss: 0.000990  [25664/60000]\n",
            "loss: 0.102520  [32064/60000]\n",
            "loss: 0.001918  [38464/60000]\n",
            "loss: 0.011262  [44864/60000]\n",
            "loss: 0.084154  [51264/60000]\n",
            "loss: 0.035178  [57664/60000]\n",
            "Test Error: \n",
            " Accuracy: 99.5%, Avg loss: 0.015941 \n",
            "\n",
            "Epoch 9\n",
            "-------------------------------\n",
            "loss: 0.011575  [   64/60000]\n",
            "loss: 0.001632  [ 6464/60000]\n",
            "loss: 0.001423  [12864/60000]\n",
            "loss: 0.005117  [19264/60000]\n",
            "loss: 0.060297  [25664/60000]\n",
            "loss: 0.074531  [32064/60000]\n",
            "loss: 0.001712  [38464/60000]\n",
            "loss: 0.003815  [44864/60000]\n",
            "loss: 0.003713  [51264/60000]\n",
            "loss: 0.054396  [57664/60000]\n",
            "Test Error: \n",
            " Accuracy: 99.5%, Avg loss: 0.014589 \n",
            "\n",
            "Epoch 10\n",
            "-------------------------------\n",
            "loss: 0.064867  [   64/60000]\n",
            "loss: 0.030121  [ 6464/60000]\n",
            "loss: 0.003310  [12864/60000]\n",
            "loss: 0.028127  [19264/60000]\n",
            "loss: 0.067639  [25664/60000]\n",
            "loss: 0.047854  [32064/60000]\n",
            "loss: 0.004316  [38464/60000]\n",
            "loss: 0.073609  [44864/60000]\n",
            "loss: 0.000458  [51264/60000]\n",
            "loss: 0.051598  [57664/60000]\n",
            "Test Error: \n",
            " Accuracy: 99.5%, Avg loss: 0.014743 \n",
            "\n",
            "Epoch 11\n",
            "-------------------------------\n",
            "loss: 0.042661  [   64/60000]\n",
            "loss: 0.005122  [ 6464/60000]\n",
            "loss: 0.009841  [12864/60000]\n",
            "loss: 0.002658  [19264/60000]\n",
            "loss: 0.051494  [25664/60000]\n",
            "loss: 0.011332  [32064/60000]\n",
            "loss: 0.016519  [38464/60000]\n",
            "loss: 0.000990  [44864/60000]\n",
            "loss: 0.002887  [51264/60000]\n",
            "loss: 0.000779  [57664/60000]\n",
            "Test Error: \n",
            " Accuracy: 99.4%, Avg loss: 0.021660 \n",
            "\n",
            "Epoch 12\n",
            "-------------------------------\n",
            "loss: 0.060864  [   64/60000]\n",
            "loss: 0.015586  [ 6464/60000]\n",
            "loss: 0.006552  [12864/60000]\n",
            "loss: 0.005539  [19264/60000]\n",
            "loss: 0.011969  [25664/60000]\n",
            "loss: 0.013678  [32064/60000]\n",
            "loss: 0.022107  [38464/60000]\n",
            "loss: 0.030190  [44864/60000]\n",
            "loss: 0.046988  [51264/60000]\n",
            "loss: 0.008774  [57664/60000]\n",
            "Test Error: \n",
            " Accuracy: 99.6%, Avg loss: 0.014685 \n",
            "\n",
            "Epoch 13\n",
            "-------------------------------\n",
            "loss: 0.005903  [   64/60000]\n",
            "loss: 0.019052  [ 6464/60000]\n",
            "loss: 0.001817  [12864/60000]\n",
            "loss: 0.002414  [19264/60000]\n",
            "loss: 0.004776  [25664/60000]\n",
            "loss: 0.005106  [32064/60000]\n",
            "loss: 0.009084  [38464/60000]\n",
            "loss: 0.008637  [44864/60000]\n",
            "loss: 0.015247  [51264/60000]\n",
            "loss: 0.051355  [57664/60000]\n",
            "Test Error: \n",
            " Accuracy: 99.5%, Avg loss: 0.015211 \n",
            "\n",
            "Epoch 14\n",
            "-------------------------------\n",
            "loss: 0.017285  [   64/60000]\n",
            "loss: 0.008986  [ 6464/60000]\n",
            "loss: 0.014360  [12864/60000]\n",
            "loss: 0.012775  [19264/60000]\n",
            "loss: 0.115043  [25664/60000]\n",
            "loss: 0.002715  [32064/60000]\n",
            "loss: 0.008982  [38464/60000]\n",
            "loss: 0.000511  [44864/60000]\n",
            "loss: 0.059587  [51264/60000]\n",
            "loss: 0.020291  [57664/60000]\n",
            "Test Error: \n",
            " Accuracy: 99.5%, Avg loss: 0.016097 \n",
            "\n",
            "Epoch 15\n",
            "-------------------------------\n",
            "loss: 0.000906  [   64/60000]\n",
            "loss: 0.012799  [ 6464/60000]\n",
            "loss: 0.005082  [12864/60000]\n",
            "loss: 0.011469  [19264/60000]\n",
            "loss: 0.002223  [25664/60000]\n",
            "loss: 0.052513  [32064/60000]\n",
            "loss: 0.002120  [38464/60000]\n",
            "loss: 0.002313  [44864/60000]\n",
            "loss: 0.000525  [51264/60000]\n",
            "loss: 0.004071  [57664/60000]\n",
            "Test Error: \n",
            " Accuracy: 99.4%, Avg loss: 0.016253 \n",
            "\n",
            "Epoch 16\n",
            "-------------------------------\n",
            "loss: 0.026095  [   64/60000]\n",
            "loss: 0.000517  [ 6464/60000]\n",
            "loss: 0.044071  [12864/60000]\n",
            "loss: 0.010707  [19264/60000]\n",
            "loss: 0.020542  [25664/60000]\n",
            "loss: 0.002339  [32064/60000]\n",
            "loss: 0.001046  [38464/60000]\n",
            "loss: 0.000481  [44864/60000]\n",
            "loss: 0.002956  [51264/60000]\n",
            "loss: 0.000777  [57664/60000]\n",
            "Test Error: \n",
            " Accuracy: 99.6%, Avg loss: 0.016626 \n",
            "\n",
            "Epoch 17\n",
            "-------------------------------\n",
            "loss: 0.001745  [   64/60000]\n",
            "loss: 0.000498  [ 6464/60000]\n",
            "loss: 0.001059  [12864/60000]\n",
            "loss: 0.001667  [19264/60000]\n",
            "loss: 0.033384  [25664/60000]\n",
            "loss: 0.000609  [32064/60000]\n",
            "loss: 0.001351  [38464/60000]\n",
            "loss: 0.012927  [44864/60000]\n",
            "loss: 0.001747  [51264/60000]\n",
            "loss: 0.010690  [57664/60000]\n",
            "Test Error: \n",
            " Accuracy: 99.6%, Avg loss: 0.013693 \n",
            "\n",
            "Epoch 18\n",
            "-------------------------------\n",
            "loss: 0.022533  [   64/60000]\n",
            "loss: 0.000160  [ 6464/60000]\n",
            "loss: 0.000980  [12864/60000]\n",
            "loss: 0.097106  [19264/60000]\n",
            "loss: 0.082207  [25664/60000]\n",
            "loss: 0.025184  [32064/60000]\n",
            "loss: 0.021601  [38464/60000]\n",
            "loss: 0.007270  [44864/60000]\n",
            "loss: 0.013226  [51264/60000]\n",
            "loss: 0.004718  [57664/60000]\n",
            "Test Error: \n",
            " Accuracy: 99.5%, Avg loss: 0.016838 \n",
            "\n",
            "Epoch 19\n",
            "-------------------------------\n",
            "loss: 0.001021  [   64/60000]\n",
            "loss: 0.007820  [ 6464/60000]\n",
            "loss: 0.000436  [12864/60000]\n",
            "loss: 0.000344  [19264/60000]\n",
            "loss: 0.039814  [25664/60000]\n",
            "loss: 0.007665  [32064/60000]\n",
            "loss: 0.018304  [38464/60000]\n",
            "loss: 0.003144  [44864/60000]\n",
            "loss: 0.024220  [51264/60000]\n",
            "loss: 0.001889  [57664/60000]\n",
            "Test Error: \n",
            " Accuracy: 99.6%, Avg loss: 0.016008 \n",
            "\n",
            "Epoch 20\n",
            "-------------------------------\n",
            "loss: 0.007234  [   64/60000]\n",
            "loss: 0.000684  [ 6464/60000]\n",
            "loss: 0.000849  [12864/60000]\n",
            "loss: 0.032639  [19264/60000]\n",
            "loss: 0.002597  [25664/60000]\n",
            "loss: 0.000091  [32064/60000]\n",
            "loss: 0.000487  [38464/60000]\n",
            "loss: 0.007616  [44864/60000]\n",
            "loss: 0.000684  [51264/60000]\n",
            "loss: 0.001041  [57664/60000]\n",
            "Test Error: \n",
            " Accuracy: 99.5%, Avg loss: 0.015850 \n",
            "\n",
            "Done!\n"
          ]
        }
      ],
      "source": [
        "# TRAIN LOOP\n",
        "best_model = None\n",
        "best_accuracy = 0\n",
        "train_loss = []\n",
        "test_loss = []\n",
        "test_acc = []\n",
        "for epoch in range(epochs):\n",
        "    print(f\"Epoch {epoch+1}\\n-------------------------------\")\n",
        "    tr_loss = train(model, device, train_loader, optimizer, epoch)\n",
        "    te_loss, te_accuracy = test(model, device, test_loader)\n",
        "\n",
        "    train_loss.append(tr_loss)\n",
        "    test_loss.append(te_loss)\n",
        "    test_acc.append(te_accuracy)\n",
        "\n",
        "    if (te_accuracy > best_accuracy):\n",
        "      print(\"Saving model...\")\n",
        "      best_accuracy = te_accuracy\n",
        "      best_model = model\n",
        "\n",
        "print(\"Done!\")\n"
      ]
    },
    {
      "cell_type": "code",
      "execution_count": 85,
      "metadata": {
        "colab": {
          "base_uri": "https://localhost:8080/"
        },
        "id": "Al0JMr_-7sE9",
        "outputId": "ddb3d6b2-6c4d-46e0-e87a-005c567a5979"
      },
      "outputs": [
        {
          "name": "stdout",
          "output_type": "stream",
          "text": [
            "Test Error: \n",
            " Accuracy: 99.5%, Avg loss: 0.015850 \n",
            "\n",
            "99.51\n"
          ]
        }
      ],
      "source": [
        "te_loss, te_accuracy = test(best_model, device, test_loader)\n",
        "print(te_accuracy)\n"
      ]
    },
    {
      "cell_type": "code",
      "execution_count": 82,
      "metadata": {
        "colab": {
          "base_uri": "https://localhost:8080/",
          "height": 430
        },
        "id": "2x1ZBBYoaoOL",
        "outputId": "5ab817a1-f770-47a9-de19-769f11157b6e"
      },
      "outputs": [
        {
          "data": {
            "image/png": "[encoded data removed]",
            "text/plain": [
              "<Figure size 640x480 with 32 Axes>"
            ]
          },
          "metadata": {},
          "output_type": "display_data"
        }
      ],
      "source": [
        "# FILTERS\n",
        "import matplotlib.pyplot as plt\n",
        "kernel = model.conv1.weight.cpu()\n",
        "kernel = kernel.detach()\n",
        "kernel = np.array(kernel)\n",
        "figure, ax = plt.subplots(6, 6)\n",
        "for i in range(6):\n",
        "  for j in range(6):\n",
        "    # print(6*i + j)\n",
        "    if 6*i + j < len(kernel):\n",
        "      ax[i][j].imshow(kernel[6*i + j].reshape(3,3))\n",
        "    else:\n",
        "      ax[i][j].remove()"
      ]
    },
    {
      "cell_type": "markdown",
      "metadata": {
        "id": "ULyrWbZ-x-_t"
      },
      "source": [
        "##Exercise 0\n",
        "Create a plot of the values of the training losses and training accuracies.\n",
        "\n",
        "This can help to monitor how the training is going."
      ]
    },
    {
      "cell_type": "code",
      "execution_count": 86,
      "metadata": {
        "colab": {
          "base_uri": "https://localhost:8080/",
          "height": 368
        },
        "id": "BML547Zox8PU",
        "outputId": "9ac81bad-4f34-48d0-bf46-ead3d189b41a"
      },
      "outputs": [
        {
          "data": {
            "text/plain": [
              "[<matplotlib.lines.Line2D at 0x7b02c1ead5a0>]"
            ]
          },
          "execution_count": 86,
          "metadata": {},
          "output_type": "execute_result"
        },
        {
          "data": {
            "image/png": "[encoded data removed]",
            "text/plain": [
              "<Figure size 1800x480 with 2 Axes>"
            ]
          },
          "metadata": {},
          "output_type": "display_data"
        }
      ],
      "source": [
        "train_loss = np.array(train_loss).ravel()\n",
        "test_loss = np.array(test_loss).ravel()\n",
        "fig, ax = plt.subplots(1, 2)\n",
        "fig.set_figwidth(18)\n",
        "ax[0].set_title(\"Training vs test\")\n",
        "ax[1].set_title(\"Accuracy\")\n",
        "ax[0].plot(np.arange(0, len(train_loss), 1), train_loss, '-o')\n",
        "ax[0].plot(np.arange(0, len(test_loss), 1), test_loss, '-o')\n",
        "ax[1].plot(np.arange(0, epochs, 1), test_acc, '-o')"
      ]
    },
    {
      "cell_type": "markdown",
      "metadata": {
        "id": "gR4tfzHCGoZU"
      },
      "source": [
        "## Exercise 1\n",
        "\n",
        "Try to change the network architecture (e.g. use all linear layers) or network hyperparameters (e.g. dimensions of the CNN kernel, stride, padding)\n",
        "\n",
        "How the performance change? Why?"
      ]
    },
    {
      "cell_type": "markdown",
      "metadata": {
        "id": "wtOWItYnOz5l"
      },
      "source": [
        "## Exercise 2\n",
        "\n",
        "Try to work with the hyperparameters (batch_size, learning_rate, ...).\n",
        "\n",
        "In particular try to focus on the optimization part. Change algorithm, momentum, parameters...\n",
        "\n",
        "How can it be improved?"
      ]
    },
    {
      "cell_type": "code",
      "execution_count": 83,
      "metadata": {
        "id": "2XMx5iJjGnKX"
      },
      "outputs": [],
      "source": []
    }
  ],
  "metadata": {
    "accelerator": "GPU",
    "colab": {
      "provenance": []
    },
    "kernelspec": {
      "display_name": "Python 3",
      "name": "python3"
    },
    "language_info": {
      "name": "python"
    }
  },
  "nbformat": 4,
  "nbformat_minor": 0
}
