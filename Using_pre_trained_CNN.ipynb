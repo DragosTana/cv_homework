{
  "cells": [
    {
      "cell_type": "markdown",
      "metadata": {
        "colab_type": "text",
        "id": "view-in-github"
      },
      "source": [
        "<a href=\"https://colab.research.google.com/github/DragosTana/cv_homework/blob/main/Using_pre_trained_CNN.ipynb\" target=\"_parent\"><img src=\"https://colab.research.google.com/assets/colab-badge.svg\" alt=\"Open In Colab\"/></a>"
      ]
    },
    {
      "cell_type": "markdown",
      "metadata": {
        "id": "5l5xxcxd0vpW"
      },
      "source": [
        "# Using pre-trained CNN\n",
        "\n",
        "In this lab, we will see:\n",
        "\n",
        "- Zero-shot performance of pre-trained backbone\n",
        "- Use pre-trained CNN as backbone\n",
        "- Fine-tuning the pre-trained CNN"
      ]
    },
    {
      "cell_type": "code",
      "execution_count": 43,
      "metadata": {
        "id": "Tkm5SfEo1c1r"
      },
      "outputs": [],
      "source": [
        "import numpy as np\n",
        "\n",
        "import torch\n",
        "import torch.nn as nn\n",
        "import torch.optim as optim\n",
        "\n",
        "import torchvision\n",
        "import torchvision.models as models\n",
        "import torchvision.transforms as transforms\n",
        "\n",
        "import matplotlib.pyplot as plt"
      ]
    },
    {
      "cell_type": "code",
      "execution_count": 44,
      "metadata": {
        "id": "6Oh2yVOi3Lie"
      },
      "outputs": [],
      "source": [
        "batch_size = 64\n",
        "lr = 0.01\n",
        "epochs = 40\n",
        "device = torch.device(\"cuda\") # to use the GPU"
      ]
    },
    {
      "cell_type": "code",
      "execution_count": 45,
      "metadata": {
        "id": "XWJUU9yp0vHp"
      },
      "outputs": [
        {
          "name": "stdout",
          "output_type": "stream",
          "text": [
            "Files already downloaded and verified\n",
            "Files already downloaded and verified\n"
          ]
        }
      ],
      "source": [
        "transform_train = transforms.Compose([\n",
        "    transforms.RandomCrop(32, padding=4),\n",
        "    transforms.RandomHorizontalFlip(),\n",
        "    transforms.ToTensor(),\n",
        "    transforms.Normalize((0.4914, 0.4822, 0.4465), (0.2023, 0.1994, 0.2010)),\n",
        "])\n",
        "\n",
        "transform_test = transforms.Compose([\n",
        "    transforms.ToTensor(),\n",
        "    transforms.Normalize((0.4914, 0.4822, 0.4465), (0.2023, 0.1994, 0.2010)),\n",
        "])\n",
        "\n",
        "dataset = torchvision.datasets.CIFAR10(root='./data', train=True, download=True, transform=transform_train)\n",
        "# create a split for train/validation. We can use early stop\n",
        "trainset, valset = torch.utils.data.random_split(dataset, [40000, 10000])\n",
        "\n",
        "trainloader = torch.utils.data.DataLoader(trainset, batch_size=batch_size, shuffle=True, num_workers=2, drop_last=True)\n",
        "valloader = torch.utils.data.DataLoader(valset, batch_size=batch_size, shuffle=False, num_workers=2, drop_last=False)\n",
        "\n",
        "testset = torchvision.datasets.CIFAR10(root='./data', train=False, download=True, transform=transform_test)\n",
        "testloader = torch.utils.data.DataLoader(testset, batch_size=batch_size, shuffle=False, num_workers=2, drop_last=False)\n"
      ]
    },
    {
      "cell_type": "markdown",
      "metadata": {
        "id": "mkiBrlvS1utb"
      },
      "source": [
        "## Load a pre-defined network with pretrained weights\n",
        "\n"
      ]
    },
    {
      "cell_type": "code",
      "execution_count": 46,
      "metadata": {
        "id": "uav1QxKwUXE5"
      },
      "outputs": [
        {
          "data": {
            "text/plain": [
              "ResNet(\n",
              "  (conv1): Conv2d(3, 64, kernel_size=(7, 7), stride=(2, 2), padding=(3, 3), bias=False)\n",
              "  (bn1): BatchNorm2d(64, eps=1e-05, momentum=0.1, affine=True, track_running_stats=True)\n",
              "  (relu): ReLU(inplace=True)\n",
              "  (maxpool): MaxPool2d(kernel_size=3, stride=2, padding=1, dilation=1, ceil_mode=False)\n",
              "  (layer1): Sequential(\n",
              "    (0): BasicBlock(\n",
              "      (conv1): Conv2d(64, 64, kernel_size=(3, 3), stride=(1, 1), padding=(1, 1), bias=False)\n",
              "      (bn1): BatchNorm2d(64, eps=1e-05, momentum=0.1, affine=True, track_running_stats=True)\n",
              "      (relu): ReLU(inplace=True)\n",
              "      (conv2): Conv2d(64, 64, kernel_size=(3, 3), stride=(1, 1), padding=(1, 1), bias=False)\n",
              "      (bn2): BatchNorm2d(64, eps=1e-05, momentum=0.1, affine=True, track_running_stats=True)\n",
              "    )\n",
              "    (1): BasicBlock(\n",
              "      (conv1): Conv2d(64, 64, kernel_size=(3, 3), stride=(1, 1), padding=(1, 1), bias=False)\n",
              "      (bn1): BatchNorm2d(64, eps=1e-05, momentum=0.1, affine=True, track_running_stats=True)\n",
              "      (relu): ReLU(inplace=True)\n",
              "      (conv2): Conv2d(64, 64, kernel_size=(3, 3), stride=(1, 1), padding=(1, 1), bias=False)\n",
              "      (bn2): BatchNorm2d(64, eps=1e-05, momentum=0.1, affine=True, track_running_stats=True)\n",
              "    )\n",
              "  )\n",
              "  (layer2): Sequential(\n",
              "    (0): BasicBlock(\n",
              "      (conv1): Conv2d(64, 128, kernel_size=(3, 3), stride=(2, 2), padding=(1, 1), bias=False)\n",
              "      (bn1): BatchNorm2d(128, eps=1e-05, momentum=0.1, affine=True, track_running_stats=True)\n",
              "      (relu): ReLU(inplace=True)\n",
              "      (conv2): Conv2d(128, 128, kernel_size=(3, 3), stride=(1, 1), padding=(1, 1), bias=False)\n",
              "      (bn2): BatchNorm2d(128, eps=1e-05, momentum=0.1, affine=True, track_running_stats=True)\n",
              "      (downsample): Sequential(\n",
              "        (0): Conv2d(64, 128, kernel_size=(1, 1), stride=(2, 2), bias=False)\n",
              "        (1): BatchNorm2d(128, eps=1e-05, momentum=0.1, affine=True, track_running_stats=True)\n",
              "      )\n",
              "    )\n",
              "    (1): BasicBlock(\n",
              "      (conv1): Conv2d(128, 128, kernel_size=(3, 3), stride=(1, 1), padding=(1, 1), bias=False)\n",
              "      (bn1): BatchNorm2d(128, eps=1e-05, momentum=0.1, affine=True, track_running_stats=True)\n",
              "      (relu): ReLU(inplace=True)\n",
              "      (conv2): Conv2d(128, 128, kernel_size=(3, 3), stride=(1, 1), padding=(1, 1), bias=False)\n",
              "      (bn2): BatchNorm2d(128, eps=1e-05, momentum=0.1, affine=True, track_running_stats=True)\n",
              "    )\n",
              "  )\n",
              "  (layer3): Sequential(\n",
              "    (0): BasicBlock(\n",
              "      (conv1): Conv2d(128, 256, kernel_size=(3, 3), stride=(2, 2), padding=(1, 1), bias=False)\n",
              "      (bn1): BatchNorm2d(256, eps=1e-05, momentum=0.1, affine=True, track_running_stats=True)\n",
              "      (relu): ReLU(inplace=True)\n",
              "      (conv2): Conv2d(256, 256, kernel_size=(3, 3), stride=(1, 1), padding=(1, 1), bias=False)\n",
              "      (bn2): BatchNorm2d(256, eps=1e-05, momentum=0.1, affine=True, track_running_stats=True)\n",
              "      (downsample): Sequential(\n",
              "        (0): Conv2d(128, 256, kernel_size=(1, 1), stride=(2, 2), bias=False)\n",
              "        (1): BatchNorm2d(256, eps=1e-05, momentum=0.1, affine=True, track_running_stats=True)\n",
              "      )\n",
              "    )\n",
              "    (1): BasicBlock(\n",
              "      (conv1): Conv2d(256, 256, kernel_size=(3, 3), stride=(1, 1), padding=(1, 1), bias=False)\n",
              "      (bn1): BatchNorm2d(256, eps=1e-05, momentum=0.1, affine=True, track_running_stats=True)\n",
              "      (relu): ReLU(inplace=True)\n",
              "      (conv2): Conv2d(256, 256, kernel_size=(3, 3), stride=(1, 1), padding=(1, 1), bias=False)\n",
              "      (bn2): BatchNorm2d(256, eps=1e-05, momentum=0.1, affine=True, track_running_stats=True)\n",
              "    )\n",
              "  )\n",
              "  (layer4): Sequential(\n",
              "    (0): BasicBlock(\n",
              "      (conv1): Conv2d(256, 512, kernel_size=(3, 3), stride=(2, 2), padding=(1, 1), bias=False)\n",
              "      (bn1): BatchNorm2d(512, eps=1e-05, momentum=0.1, affine=True, track_running_stats=True)\n",
              "      (relu): ReLU(inplace=True)\n",
              "      (conv2): Conv2d(512, 512, kernel_size=(3, 3), stride=(1, 1), padding=(1, 1), bias=False)\n",
              "      (bn2): BatchNorm2d(512, eps=1e-05, momentum=0.1, affine=True, track_running_stats=True)\n",
              "      (downsample): Sequential(\n",
              "        (0): Conv2d(256, 512, kernel_size=(1, 1), stride=(2, 2), bias=False)\n",
              "        (1): BatchNorm2d(512, eps=1e-05, momentum=0.1, affine=True, track_running_stats=True)\n",
              "      )\n",
              "    )\n",
              "    (1): BasicBlock(\n",
              "      (conv1): Conv2d(512, 512, kernel_size=(3, 3), stride=(1, 1), padding=(1, 1), bias=False)\n",
              "      (bn1): BatchNorm2d(512, eps=1e-05, momentum=0.1, affine=True, track_running_stats=True)\n",
              "      (relu): ReLU(inplace=True)\n",
              "      (conv2): Conv2d(512, 512, kernel_size=(3, 3), stride=(1, 1), padding=(1, 1), bias=False)\n",
              "      (bn2): BatchNorm2d(512, eps=1e-05, momentum=0.1, affine=True, track_running_stats=True)\n",
              "    )\n",
              "  )\n",
              "  (avgpool): AdaptiveAvgPool2d(output_size=(1, 1))\n",
              "  (fc): Linear(in_features=512, out_features=10, bias=True)\n",
              ")"
            ]
          },
          "execution_count": 46,
          "metadata": {},
          "output_type": "execute_result"
        }
      ],
      "source": [
        "net = models.resnet18(pretrained=True)\n",
        "# override the fc layer of the network since it is of 1000 classes by default (ImageNet)\n",
        "net.fc = nn.Linear(512, 10)\n",
        "net.to(device)"
      ]
    },
    {
      "cell_type": "code",
      "execution_count": 47,
      "metadata": {
        "id": "aWSNZ5Hf18Kn"
      },
      "outputs": [
        {
          "data": {
            "text/plain": [
              "11181642"
            ]
          },
          "execution_count": 47,
          "metadata": {},
          "output_type": "execute_result"
        }
      ],
      "source": [
        "# count the trainable parameters of the model\n",
        "def count_trainable_parameters(model):\n",
        "    return sum(p.numel() for p in model.parameters() if p.requires_grad)\n",
        "count_trainable_parameters(net)"
      ]
    },
    {
      "cell_type": "code",
      "execution_count": 48,
      "metadata": {
        "id": "3uNOIDDs1_QD"
      },
      "outputs": [
        {
          "data": {
            "text/plain": [
              "5130"
            ]
          },
          "execution_count": 48,
          "metadata": {},
          "output_type": "execute_result"
        }
      ],
      "source": [
        "# frozen all the weights of the network, except for fc ones\n",
        "for param in net.parameters():\n",
        "    param.requires_grad = False\n",
        "net.fc.weight.requires_grad = True\n",
        "net.fc.bias.requires_grad = True\n",
        "count_trainable_parameters(net)"
      ]
    },
    {
      "cell_type": "code",
      "execution_count": 49,
      "metadata": {
        "id": "UH7STI6m0dg9"
      },
      "outputs": [],
      "source": [
        "# define train and test function\n",
        "def train(model, device, train_loader, optimizer, epoch):\n",
        "    model.train()\n",
        "    losses = []\n",
        "    for batch_idx, (data, target) in enumerate(train_loader):\n",
        "        data, target = data.to(device), target.to(device)\n",
        "        optimizer.zero_grad()\n",
        "        output = model(data)\n",
        "        loss = criterion(output, target)\n",
        "        loss.backward()\n",
        "        optimizer.step()\n",
        "        if batch_idx % 500 == 0:\n",
        "            print('Train Epoch: {} [{}/{} ({:.0f}%)]\\tLoss: {:.6f}'.format(\n",
        "                epoch, batch_idx * len(data), len(train_loader.dataset),\n",
        "                100. * batch_idx / len(train_loader), loss.item()))\n",
        "        losses.append(loss.item())\n",
        "    return np.mean(losses)\n",
        "\n",
        "def test(model, device, test_loader, val=False):\n",
        "    model.eval()\n",
        "    test_loss = 0\n",
        "    correct = 0\n",
        "    with torch.no_grad():\n",
        "        for data, target in test_loader:\n",
        "            data, target = data.to(device), target.to(device)\n",
        "            output = model(data)\n",
        "            test_loss += criterion(output, target).item()  # sum up batch loss\n",
        "            pred = output.argmax(dim=1, keepdim=True)  # get the index of the max log-probability\n",
        "            correct += pred.eq(target.view_as(pred)).sum().item()\n",
        "\n",
        "    mode = \"Val\" if val else \"Test\"\n",
        "    print('\\{} set: Average loss: {:.4f}, Accuracy: {}/{} ({:.0f}%)\\n'.format(\n",
        "        mode,\n",
        "        test_loss, correct, len(test_loader.dataset),\n",
        "        100. * correct / len(test_loader.dataset)))\n",
        "    \n",
        "    test_acc = correct / len(test_loader.dataset)\n",
        "    test_loss /= len(test_loader.dataset)\n",
        "    \n",
        "    return test_loss, test_acc"
      ]
    },
    {
      "cell_type": "code",
      "execution_count": 50,
      "metadata": {
        "id": "b3SqSMwo4qp1"
      },
      "outputs": [],
      "source": [
        "criterion = nn.CrossEntropyLoss()\n",
        "optimizer = optim.SGD(net.parameters(), lr=lr, momentum=0.9, weight_decay=1e-04)"
      ]
    },
    {
      "cell_type": "code",
      "execution_count": 51,
      "metadata": {
        "id": "GqA_UXQZ2zc8"
      },
      "outputs": [],
      "source": [
        "# the main loop\n",
        "# train_losses = []\n",
        "# val_losses = []\n",
        "# val_accuracies = []\n",
        "# model_state_dict = None\n",
        "# \n",
        "# for epoch in range(1, epochs + 1):\n",
        "#     train_loss = train(net, device, trainloader, optimizer, epoch)\n",
        "#     train_losses.append(train_loss)\n",
        "#     val_loss, val_acc = test(net, device, valloader)\n",
        "#     val_losses.append(val_loss)\n",
        "#     val_accuracies.append(val_acc)"
      ]
    },
    {
      "cell_type": "code",
      "execution_count": 52,
      "metadata": {
        "id": "4iwFGBFz6FUH"
      },
      "outputs": [
        {
          "name": "stdout",
          "output_type": "stream",
          "text": [
            "\\Test set: Average loss: 384.7668, Accuracy: 925/10000 (9%)\n",
            "\n"
          ]
        }
      ],
      "source": [
        "test_loss, test_acc = test(net, device, testloader)"
      ]
    },
    {
      "cell_type": "markdown",
      "metadata": {
        "id": "oo5XBPHC5ePQ"
      },
      "source": [
        "## Add additional layer to the pre-trained model\n"
      ]
    },
    {
      "cell_type": "code",
      "execution_count": 53,
      "metadata": {
        "id": "Z1UXzoW65drQ"
      },
      "outputs": [
        {
          "data": {
            "text/plain": [
              "ResNet(\n",
              "  (conv1): Conv2d(3, 64, kernel_size=(7, 7), stride=(2, 2), padding=(3, 3), bias=False)\n",
              "  (bn1): BatchNorm2d(64, eps=1e-05, momentum=0.1, affine=True, track_running_stats=True)\n",
              "  (relu): ReLU(inplace=True)\n",
              "  (maxpool): MaxPool2d(kernel_size=3, stride=2, padding=1, dilation=1, ceil_mode=False)\n",
              "  (layer1): Sequential(\n",
              "    (0): BasicBlock(\n",
              "      (conv1): Conv2d(64, 64, kernel_size=(3, 3), stride=(1, 1), padding=(1, 1), bias=False)\n",
              "      (bn1): BatchNorm2d(64, eps=1e-05, momentum=0.1, affine=True, track_running_stats=True)\n",
              "      (relu): ReLU(inplace=True)\n",
              "      (conv2): Conv2d(64, 64, kernel_size=(3, 3), stride=(1, 1), padding=(1, 1), bias=False)\n",
              "      (bn2): BatchNorm2d(64, eps=1e-05, momentum=0.1, affine=True, track_running_stats=True)\n",
              "    )\n",
              "    (1): BasicBlock(\n",
              "      (conv1): Conv2d(64, 64, kernel_size=(3, 3), stride=(1, 1), padding=(1, 1), bias=False)\n",
              "      (bn1): BatchNorm2d(64, eps=1e-05, momentum=0.1, affine=True, track_running_stats=True)\n",
              "      (relu): ReLU(inplace=True)\n",
              "      (conv2): Conv2d(64, 64, kernel_size=(3, 3), stride=(1, 1), padding=(1, 1), bias=False)\n",
              "      (bn2): BatchNorm2d(64, eps=1e-05, momentum=0.1, affine=True, track_running_stats=True)\n",
              "    )\n",
              "  )\n",
              "  (layer2): Sequential(\n",
              "    (0): BasicBlock(\n",
              "      (conv1): Conv2d(64, 128, kernel_size=(3, 3), stride=(2, 2), padding=(1, 1), bias=False)\n",
              "      (bn1): BatchNorm2d(128, eps=1e-05, momentum=0.1, affine=True, track_running_stats=True)\n",
              "      (relu): ReLU(inplace=True)\n",
              "      (conv2): Conv2d(128, 128, kernel_size=(3, 3), stride=(1, 1), padding=(1, 1), bias=False)\n",
              "      (bn2): BatchNorm2d(128, eps=1e-05, momentum=0.1, affine=True, track_running_stats=True)\n",
              "      (downsample): Sequential(\n",
              "        (0): Conv2d(64, 128, kernel_size=(1, 1), stride=(2, 2), bias=False)\n",
              "        (1): BatchNorm2d(128, eps=1e-05, momentum=0.1, affine=True, track_running_stats=True)\n",
              "      )\n",
              "    )\n",
              "    (1): BasicBlock(\n",
              "      (conv1): Conv2d(128, 128, kernel_size=(3, 3), stride=(1, 1), padding=(1, 1), bias=False)\n",
              "      (bn1): BatchNorm2d(128, eps=1e-05, momentum=0.1, affine=True, track_running_stats=True)\n",
              "      (relu): ReLU(inplace=True)\n",
              "      (conv2): Conv2d(128, 128, kernel_size=(3, 3), stride=(1, 1), padding=(1, 1), bias=False)\n",
              "      (bn2): BatchNorm2d(128, eps=1e-05, momentum=0.1, affine=True, track_running_stats=True)\n",
              "    )\n",
              "  )\n",
              "  (layer3): Sequential(\n",
              "    (0): BasicBlock(\n",
              "      (conv1): Conv2d(128, 256, kernel_size=(3, 3), stride=(2, 2), padding=(1, 1), bias=False)\n",
              "      (bn1): BatchNorm2d(256, eps=1e-05, momentum=0.1, affine=True, track_running_stats=True)\n",
              "      (relu): ReLU(inplace=True)\n",
              "      (conv2): Conv2d(256, 256, kernel_size=(3, 3), stride=(1, 1), padding=(1, 1), bias=False)\n",
              "      (bn2): BatchNorm2d(256, eps=1e-05, momentum=0.1, affine=True, track_running_stats=True)\n",
              "      (downsample): Sequential(\n",
              "        (0): Conv2d(128, 256, kernel_size=(1, 1), stride=(2, 2), bias=False)\n",
              "        (1): BatchNorm2d(256, eps=1e-05, momentum=0.1, affine=True, track_running_stats=True)\n",
              "      )\n",
              "    )\n",
              "    (1): BasicBlock(\n",
              "      (conv1): Conv2d(256, 256, kernel_size=(3, 3), stride=(1, 1), padding=(1, 1), bias=False)\n",
              "      (bn1): BatchNorm2d(256, eps=1e-05, momentum=0.1, affine=True, track_running_stats=True)\n",
              "      (relu): ReLU(inplace=True)\n",
              "      (conv2): Conv2d(256, 256, kernel_size=(3, 3), stride=(1, 1), padding=(1, 1), bias=False)\n",
              "      (bn2): BatchNorm2d(256, eps=1e-05, momentum=0.1, affine=True, track_running_stats=True)\n",
              "    )\n",
              "  )\n",
              "  (layer4): Sequential(\n",
              "    (0): BasicBlock(\n",
              "      (conv1): Conv2d(256, 512, kernel_size=(3, 3), stride=(2, 2), padding=(1, 1), bias=False)\n",
              "      (bn1): BatchNorm2d(512, eps=1e-05, momentum=0.1, affine=True, track_running_stats=True)\n",
              "      (relu): ReLU(inplace=True)\n",
              "      (conv2): Conv2d(512, 512, kernel_size=(3, 3), stride=(1, 1), padding=(1, 1), bias=False)\n",
              "      (bn2): BatchNorm2d(512, eps=1e-05, momentum=0.1, affine=True, track_running_stats=True)\n",
              "      (downsample): Sequential(\n",
              "        (0): Conv2d(256, 512, kernel_size=(1, 1), stride=(2, 2), bias=False)\n",
              "        (1): BatchNorm2d(512, eps=1e-05, momentum=0.1, affine=True, track_running_stats=True)\n",
              "      )\n",
              "    )\n",
              "    (1): BasicBlock(\n",
              "      (conv1): Conv2d(512, 512, kernel_size=(3, 3), stride=(1, 1), padding=(1, 1), bias=False)\n",
              "      (bn1): BatchNorm2d(512, eps=1e-05, momentum=0.1, affine=True, track_running_stats=True)\n",
              "      (relu): ReLU(inplace=True)\n",
              "      (conv2): Conv2d(512, 512, kernel_size=(3, 3), stride=(1, 1), padding=(1, 1), bias=False)\n",
              "      (bn2): BatchNorm2d(512, eps=1e-05, momentum=0.1, affine=True, track_running_stats=True)\n",
              "    )\n",
              "  )\n",
              "  (avgpool): AdaptiveAvgPool2d(output_size=(1, 1))\n",
              "  (fc): Sequential(\n",
              "    (0): Linear(in_features=512, out_features=128, bias=True)\n",
              "    (1): ReLU()\n",
              "    (2): Linear(in_features=128, out_features=10, bias=True)\n",
              "  )\n",
              ")"
            ]
          },
          "execution_count": 53,
          "metadata": {},
          "output_type": "execute_result"
        }
      ],
      "source": [
        "fc1 = nn.Linear(512, 128)\n",
        "\n",
        "# Modify the existing fully connected layer (fc)\n",
        "net.fc = nn.Linear(128, 10)\n",
        "\n",
        "# Replace the model's classifier with a new sequential layer\n",
        "# that includes the new fc1 and the modified fc\n",
        "net.fc = nn.Sequential(\n",
        "    fc1,\n",
        "    nn.ReLU(),   # Optional: Add an activation function like ReLU\n",
        "    net.fc\n",
        ")\n",
        "net.to(device)"
      ]
    },
    {
      "cell_type": "markdown",
      "metadata": {
        "id": "otJejt0A1f9-"
      },
      "source": [
        "## Fine-tuning some part of the CNN (not only the classifier)"
      ]
    },
    {
      "cell_type": "code",
      "execution_count": 54,
      "metadata": {
        "id": "d4nO6OAdXsXW"
      },
      "outputs": [],
      "source": [
        "# Unfreeze layer4 parameters\n",
        "for param in net.layer4.parameters():\n",
        "    param.requires_grad = True\n",
        "\n",
        "# Unfreeze fc layer parameters\n",
        "net.fc.requires_grad = True\n",
        "\n",
        "# Setting different learning rates\n",
        "layer4_params = {'params': net.layer4.parameters(), 'lr': 0.001}\n",
        "fc_params = {'params': net.fc.parameters(), 'lr': 0.1}\n",
        "\n",
        "# Assuming you are using an Adam optimizer\n",
        "optimizer = torch.optim.SGD([layer4_params, fc_params], momentum=0.9, weight_decay=1e-04)"
      ]
    },
    {
      "cell_type": "markdown",
      "metadata": {
        "id": "kyOs4mx92koz"
      },
      "source": [
        "## Exercise 1\n",
        "\n",
        "How many layers it is better to fine-tune?\n",
        "\n",
        "It is better to update all the weights of the model?"
      ]
    },
    {
      "cell_type": "markdown",
      "metadata": {
        "id": "cUunhER-2y9v"
      },
      "source": [
        "## Exercise 2\n",
        "\n",
        "Try to change the hyper-parameters of the fine-tuning (e.g. lr of CNN layers and lr of the fc layers) and/or network architecture"
      ]
    },
    {
      "cell_type": "code",
      "execution_count": null,
      "metadata": {},
      "outputs": [],
      "source": []
    },
    {
      "cell_type": "markdown",
      "metadata": {
        "id": "GuygmHB43UHH"
      },
      "source": [
        "## Exercise 3\n",
        "\n",
        "Try to implement the model selection strategy (also known as early stopping) based on the validation accuracy on cifar10.\n",
        "\n",
        "Consider using the two following command to respectively save and load the state of all the parameters of the model in a moment."
      ]
    },
    {
      "cell_type": "code",
      "execution_count": 55,
      "metadata": {
        "id": "uOhllTzr32Ld"
      },
      "outputs": [
        {
          "name": "stdout",
          "output_type": "stream",
          "text": [
            "Train Epoch: 1 [0/40000 (0%)]\tLoss: 2.381930\n",
            "Train Epoch: 1 [32000/40000 (80%)]\tLoss: 1.801429\n",
            "\\Test set: Average loss: 291.6104, Accuracy: 3121/10000 (31%)\n",
            "\n",
            "Train Epoch: 2 [0/40000 (0%)]\tLoss: 1.758461\n",
            "Train Epoch: 2 [32000/40000 (80%)]\tLoss: 1.539238\n",
            "\\Test set: Average loss: 238.4911, Accuracy: 4639/10000 (46%)\n",
            "\n",
            "Train Epoch: 3 [0/40000 (0%)]\tLoss: 1.559373\n",
            "Train Epoch: 3 [32000/40000 (80%)]\tLoss: 1.159348\n",
            "\\Test set: Average loss: 223.5056, Accuracy: 5039/10000 (50%)\n",
            "\n",
            "Train Epoch: 4 [0/40000 (0%)]\tLoss: 1.400780\n",
            "Train Epoch: 4 [32000/40000 (80%)]\tLoss: 1.330528\n",
            "\\Test set: Average loss: 207.1192, Accuracy: 5466/10000 (55%)\n",
            "\n",
            "Train Epoch: 5 [0/40000 (0%)]\tLoss: 1.218806\n",
            "Train Epoch: 5 [32000/40000 (80%)]\tLoss: 1.426605\n",
            "\\Test set: Average loss: 189.5377, Accuracy: 5764/10000 (58%)\n",
            "\n",
            "Train Epoch: 6 [0/40000 (0%)]\tLoss: 1.296709\n",
            "Train Epoch: 6 [32000/40000 (80%)]\tLoss: 0.889901\n",
            "\\Test set: Average loss: 187.0868, Accuracy: 5930/10000 (59%)\n",
            "\n",
            "Train Epoch: 7 [0/40000 (0%)]\tLoss: 1.265329\n",
            "Train Epoch: 7 [32000/40000 (80%)]\tLoss: 1.146669\n",
            "\\Test set: Average loss: 180.7406, Accuracy: 5947/10000 (59%)\n",
            "\n",
            "Train Epoch: 8 [0/40000 (0%)]\tLoss: 0.937377\n",
            "Train Epoch: 8 [32000/40000 (80%)]\tLoss: 1.245561\n",
            "\\Test set: Average loss: 178.4783, Accuracy: 6001/10000 (60%)\n",
            "\n",
            "Train Epoch: 9 [0/40000 (0%)]\tLoss: 1.129575\n",
            "Train Epoch: 9 [32000/40000 (80%)]\tLoss: 1.264399\n",
            "\\Test set: Average loss: 175.8155, Accuracy: 6091/10000 (61%)\n",
            "\n",
            "Train Epoch: 10 [0/40000 (0%)]\tLoss: 0.965837\n",
            "Train Epoch: 10 [32000/40000 (80%)]\tLoss: 1.204426\n",
            "\\Test set: Average loss: 173.8039, Accuracy: 6127/10000 (61%)\n",
            "\n",
            "Train Epoch: 11 [0/40000 (0%)]\tLoss: 1.156821\n",
            "Train Epoch: 11 [32000/40000 (80%)]\tLoss: 1.082237\n",
            "\\Test set: Average loss: 168.6714, Accuracy: 6252/10000 (63%)\n",
            "\n",
            "Train Epoch: 12 [0/40000 (0%)]\tLoss: 1.043697\n",
            "Train Epoch: 12 [32000/40000 (80%)]\tLoss: 1.178551\n",
            "\\Test set: Average loss: 172.3307, Accuracy: 6100/10000 (61%)\n",
            "\n",
            "Train Epoch: 13 [0/40000 (0%)]\tLoss: 0.951635\n",
            "Train Epoch: 13 [32000/40000 (80%)]\tLoss: 1.061648\n",
            "\\Test set: Average loss: 165.1175, Accuracy: 6291/10000 (63%)\n",
            "\n",
            "Train Epoch: 14 [0/40000 (0%)]\tLoss: 1.019954\n",
            "Train Epoch: 14 [32000/40000 (80%)]\tLoss: 1.022143\n",
            "\\Test set: Average loss: 167.3362, Accuracy: 6277/10000 (63%)\n",
            "\n",
            "Train Epoch: 15 [0/40000 (0%)]\tLoss: 1.178092\n",
            "Train Epoch: 15 [32000/40000 (80%)]\tLoss: 1.056924\n",
            "\\Test set: Average loss: 169.7435, Accuracy: 6259/10000 (63%)\n",
            "\n",
            "Train Epoch: 16 [0/40000 (0%)]\tLoss: 1.093987\n",
            "Train Epoch: 16 [32000/40000 (80%)]\tLoss: 0.862354\n",
            "\\Test set: Average loss: 164.7802, Accuracy: 6341/10000 (63%)\n",
            "\n",
            "Train Epoch: 17 [0/40000 (0%)]\tLoss: 0.691558\n",
            "Train Epoch: 17 [32000/40000 (80%)]\tLoss: 1.142906\n",
            "\\Test set: Average loss: 161.5107, Accuracy: 6375/10000 (64%)\n",
            "\n",
            "Train Epoch: 18 [0/40000 (0%)]\tLoss: 1.111895\n",
            "Train Epoch: 18 [32000/40000 (80%)]\tLoss: 1.063544\n",
            "\\Test set: Average loss: 158.9122, Accuracy: 6495/10000 (65%)\n",
            "\n",
            "Train Epoch: 19 [0/40000 (0%)]\tLoss: 1.053896\n",
            "Train Epoch: 19 [32000/40000 (80%)]\tLoss: 1.062609\n",
            "\\Test set: Average loss: 160.4024, Accuracy: 6487/10000 (65%)\n",
            "\n",
            "Train Epoch: 20 [0/40000 (0%)]\tLoss: 0.944177\n",
            "Train Epoch: 20 [32000/40000 (80%)]\tLoss: 0.965500\n",
            "\\Test set: Average loss: 163.4575, Accuracy: 6432/10000 (64%)\n",
            "\n",
            "Train Epoch: 21 [0/40000 (0%)]\tLoss: 0.913450\n",
            "Train Epoch: 21 [32000/40000 (80%)]\tLoss: 1.117483\n",
            "\\Test set: Average loss: 164.1368, Accuracy: 6360/10000 (64%)\n",
            "\n",
            "Train Epoch: 22 [0/40000 (0%)]\tLoss: 0.804976\n",
            "Train Epoch: 22 [32000/40000 (80%)]\tLoss: 0.814240\n",
            "\\Test set: Average loss: 158.5076, Accuracy: 6478/10000 (65%)\n",
            "\n",
            "Train Epoch: 23 [0/40000 (0%)]\tLoss: 0.891007\n",
            "Train Epoch: 23 [32000/40000 (80%)]\tLoss: 0.885153\n",
            "\\Test set: Average loss: 158.8240, Accuracy: 6460/10000 (65%)\n",
            "\n",
            "Train Epoch: 24 [0/40000 (0%)]\tLoss: 0.991087\n",
            "Train Epoch: 24 [32000/40000 (80%)]\tLoss: 1.067207\n",
            "\\Test set: Average loss: 155.9575, Accuracy: 6501/10000 (65%)\n",
            "\n",
            "Train Epoch: 25 [0/40000 (0%)]\tLoss: 1.138678\n",
            "Train Epoch: 25 [32000/40000 (80%)]\tLoss: 1.000502\n",
            "\\Test set: Average loss: 154.7506, Accuracy: 6602/10000 (66%)\n",
            "\n",
            "Train Epoch: 26 [0/40000 (0%)]\tLoss: 0.849318\n",
            "Train Epoch: 26 [32000/40000 (80%)]\tLoss: 0.765892\n",
            "\\Test set: Average loss: 155.4335, Accuracy: 6524/10000 (65%)\n",
            "\n",
            "Train Epoch: 27 [0/40000 (0%)]\tLoss: 1.006789\n",
            "Train Epoch: 27 [32000/40000 (80%)]\tLoss: 0.968086\n",
            "\\Test set: Average loss: 156.0090, Accuracy: 6658/10000 (67%)\n",
            "\n",
            "Train Epoch: 28 [0/40000 (0%)]\tLoss: 0.876283\n",
            "Train Epoch: 28 [32000/40000 (80%)]\tLoss: 0.899226\n",
            "\\Test set: Average loss: 153.6634, Accuracy: 6613/10000 (66%)\n",
            "\n",
            "Train Epoch: 29 [0/40000 (0%)]\tLoss: 0.861707\n",
            "Train Epoch: 29 [32000/40000 (80%)]\tLoss: 1.313657\n",
            "\\Test set: Average loss: 159.8559, Accuracy: 6529/10000 (65%)\n",
            "\n",
            "Train Epoch: 30 [0/40000 (0%)]\tLoss: 0.827294\n",
            "Train Epoch: 30 [32000/40000 (80%)]\tLoss: 0.756170\n",
            "\\Test set: Average loss: 153.9122, Accuracy: 6669/10000 (67%)\n",
            "\n",
            "Train Epoch: 31 [0/40000 (0%)]\tLoss: 0.693286\n",
            "Train Epoch: 31 [32000/40000 (80%)]\tLoss: 0.982180\n",
            "\\Test set: Average loss: 156.1891, Accuracy: 6595/10000 (66%)\n",
            "\n",
            "Train Epoch: 32 [0/40000 (0%)]\tLoss: 0.787864\n",
            "Train Epoch: 32 [32000/40000 (80%)]\tLoss: 0.664654\n",
            "\\Test set: Average loss: 155.8027, Accuracy: 6577/10000 (66%)\n",
            "\n",
            "Train Epoch: 33 [0/40000 (0%)]\tLoss: 0.748681\n",
            "Train Epoch: 33 [32000/40000 (80%)]\tLoss: 0.937956\n",
            "\\Test set: Average loss: 153.3749, Accuracy: 6607/10000 (66%)\n",
            "\n",
            "Train Epoch: 34 [0/40000 (0%)]\tLoss: 0.741095\n",
            "Train Epoch: 34 [32000/40000 (80%)]\tLoss: 0.870978\n",
            "\\Test set: Average loss: 154.5914, Accuracy: 6657/10000 (67%)\n",
            "\n",
            "Train Epoch: 35 [0/40000 (0%)]\tLoss: 0.938530\n",
            "Train Epoch: 35 [32000/40000 (80%)]\tLoss: 0.806446\n",
            "\\Test set: Average loss: 152.1458, Accuracy: 6688/10000 (67%)\n",
            "\n",
            "Train Epoch: 36 [0/40000 (0%)]\tLoss: 1.181009\n",
            "Train Epoch: 36 [32000/40000 (80%)]\tLoss: 0.763050\n",
            "\\Test set: Average loss: 150.9790, Accuracy: 6692/10000 (67%)\n",
            "\n",
            "Train Epoch: 37 [0/40000 (0%)]\tLoss: 0.848172\n",
            "Train Epoch: 37 [32000/40000 (80%)]\tLoss: 1.009865\n",
            "\\Test set: Average loss: 152.1461, Accuracy: 6685/10000 (67%)\n",
            "\n",
            "Train Epoch: 38 [0/40000 (0%)]\tLoss: 1.012672\n",
            "Train Epoch: 38 [32000/40000 (80%)]\tLoss: 0.862158\n",
            "\\Test set: Average loss: 150.9668, Accuracy: 6668/10000 (67%)\n",
            "\n",
            "Train Epoch: 39 [0/40000 (0%)]\tLoss: 0.795258\n",
            "Train Epoch: 39 [32000/40000 (80%)]\tLoss: 1.031124\n",
            "\\Test set: Average loss: 157.1736, Accuracy: 6569/10000 (66%)\n",
            "\n",
            "Train Epoch: 40 [0/40000 (0%)]\tLoss: 1.159052\n",
            "Train Epoch: 40 [32000/40000 (80%)]\tLoss: 0.751146\n",
            "\\Test set: Average loss: 150.3912, Accuracy: 6771/10000 (68%)\n",
            "\n"
          ]
        }
      ],
      "source": [
        "# save all the parameters of the model\n",
        "# model_state_dict = net.state_dict()\n",
        "\n",
        "\n",
        "# the main loop\n",
        "train_losses = []\n",
        "val_losses = []\n",
        "val_accuracies = []\n",
        "model_state_dict = None\n",
        "best_val_acc = 0\n",
        "\n",
        "for epoch in range(1, epochs + 1):\n",
        "    train_loss = train(net, device, trainloader, optimizer, epoch)\n",
        "    train_losses.append(train_loss)\n",
        "    val_loss, val_acc = test(net, device, valloader)\n",
        "    \n",
        "    if val_acc > best_val_acc:\n",
        "        best_val_acc = val_acc\n",
        "        model_state_dict = net.state_dict()\n",
        "    \n",
        "    val_losses.append(val_loss)\n",
        "    val_accuracies.append(val_acc)"
      ]
    },
    {
      "cell_type": "code",
      "execution_count": 31,
      "metadata": {},
      "outputs": [
        {
          "data": {
            "text/plain": [
              "<All keys matched successfully>"
            ]
          },
          "execution_count": 31,
          "metadata": {},
          "output_type": "execute_result"
        }
      ],
      "source": [
        "# load saved weights on the model\n",
        "net.load_state_dict(model_state_dict)"
      ]
    },
    {
      "cell_type": "code",
      "execution_count": 56,
      "metadata": {},
      "outputs": [
        {
          "data": {
            "text/plain": [
              "[<matplotlib.lines.Line2D at 0x7f9b9d543040>]"
            ]
          },
          "execution_count": 56,
          "metadata": {},
          "output_type": "execute_result"
        },
        {
          "data": {
            "image/png": "[encoded data removed]",
            "text/plain": [
              "<Figure size 1800x480 with 2 Axes>"
            ]
          },
          "metadata": {},
          "output_type": "display_data"
        }
      ],
      "source": [
        "train_losses = np.array(train_losses).ravel()\n",
        "val_losses = np.array(val_losses).ravel()\n",
        "fig, ax = plt.subplots(1, 2)\n",
        "fig.set_figwidth(18)\n",
        "ax[0].set_title(\"Training vs validation loss\")\n",
        "ax[1].set_title(\"Accuracy\")\n",
        "ax[0].plot(np.arange(0, len(train_losses), 1), train_losses, '-o')\n",
        "ax[0].plot(np.arange(0, len(val_losses), 1), val_losses, '-o')\n",
        "ax[1].plot(np.arange(0, epochs, 1), val_accuracies, '-o')"
      ]
    }
  ],
  "metadata": {
    "accelerator": "GPU",
    "colab": {
      "include_colab_link": true,
      "provenance": []
    },
    "kernelspec": {
      "display_name": "Python 3",
      "name": "python3"
    },
    "language_info": {
      "codemirror_mode": {
        "name": "ipython",
        "version": 3
      },
      "file_extension": ".py",
      "mimetype": "text/x-python",
      "name": "python",
      "nbconvert_exporter": "python",
      "pygments_lexer": "ipython3",
      "version": "3.10.12"
    }
  },
  "nbformat": 4,
  "nbformat_minor": 0
}
